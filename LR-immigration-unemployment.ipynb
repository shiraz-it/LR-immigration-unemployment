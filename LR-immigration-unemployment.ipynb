{
 "cells": [
  {
   "cell_type": "markdown",
   "metadata": {},
   "source": [
    "# Is There a Linear Connection Between Immigration and Unemployment Rate?\n",
    "\n",
    "### Final project - SciComPy\n",
    "\n",
    "Many things have been said about imigration- most of them are negative. Along the years politicians implied that there is a strong connection between immigrantion rate and unemployment rate, using this issue to justify surtain economic policy, illigal cross bordering enforcement and more.\n",
    "\n",
    "We would like to look into this assumption, and check the correlation between those rates.\n",
    "\n",
    "As we wrote our proposal, we believe that the higher the imigration rate, the higher the unemployment of US citizens will be. After a hard work of pre-processing and plotting our data, we started to think differently. \n",
    "\n",
    "We are welcoming you to dive in to our work!"
   ]
  },
  {
   "cell_type": "code",
   "execution_count": 1,
   "metadata": {},
   "outputs": [],
   "source": [
    "import pandas as pd\n",
    "from datetime import datetime\n",
    "import json\n",
    "import numpy as np\n",
    "np.random.seed(42)\n",
    "import matplotlib.pyplot as plt\n",
    "import seaborn as sns"
   ]
  },
  {
   "cell_type": "markdown",
   "metadata": {},
   "source": [
    "## Part 1: Data Preprocessing\n",
    "\n",
    "We will use two datasets- US border crossing, and US monthly unemployment rate. \n",
    "The US border crossing dataset has a monthly record which includes the amount of people that have crossed the border (US-Canada or US-Mexico), Port name and ID, and Type of Transportation. The US monthly Unemployment Rate is taken from the U.S. Bureau of Labor Statistics, and can be partitioned by State and County.\n",
    "\n",
    "\n",
    "The US monthly unemployment rate by state is from the US Department of Labor's Bureau of Labor Statistics.\n",
    "\n",
    "https://www.kaggle.com/jayrav13/unemployment-by-county-us\n",
    "\n",
    "The US border crossing is from the Bureau of Transportation Statistics of the US.\n",
    "\n",
    "https://www.kaggle.com/divyansh22/us-border-crossing-data"
   ]
  },
  {
   "cell_type": "code",
   "execution_count": 38,
   "metadata": {},
   "outputs": [
    {
     "name": "stdout",
     "output_type": "stream",
     "text": [
      "100% [..........................................................................] 6538541 / 6538541"
     ]
    }
   ],
   "source": [
    "#downloading out data\n",
    "import wget\n",
    "import os\n",
    "from zipfile import ZipFile\n",
    "\n",
    "#The Unemployment Rate Data\n",
    "\n",
    "url = \"https://raw.github.com/noayesa/pythonFinal/master/Unemployment_Rate_Data.zip\"\n",
    "wget.download(url, 'Unemployment_Rate_Data.zip')\n",
    "\n",
    "with ZipFile('Unemployment_Rate_Data.zip', 'r') as zipObj:\n",
    "   # Extract all the contents of zip file in current directory\n",
    "   zipObj.extractall()    "
   ]
  },
  {
   "cell_type": "code",
   "execution_count": 39,
   "metadata": {},
   "outputs": [
    {
     "data": {
      "text/html": [
       "<div>\n",
       "<style scoped>\n",
       "    .dataframe tbody tr th:only-of-type {\n",
       "        vertical-align: middle;\n",
       "    }\n",
       "\n",
       "    .dataframe tbody tr th {\n",
       "        vertical-align: top;\n",
       "    }\n",
       "\n",
       "    .dataframe thead th {\n",
       "        text-align: right;\n",
       "    }\n",
       "</style>\n",
       "<table border=\"1\" class=\"dataframe\">\n",
       "  <thead>\n",
       "    <tr style=\"text-align: right;\">\n",
       "      <th></th>\n",
       "      <th>Year</th>\n",
       "      <th>Month</th>\n",
       "      <th>State</th>\n",
       "      <th>County</th>\n",
       "      <th>Rate</th>\n",
       "    </tr>\n",
       "  </thead>\n",
       "  <tbody>\n",
       "    <tr>\n",
       "      <th>0</th>\n",
       "      <td>2015</td>\n",
       "      <td>February</td>\n",
       "      <td>Mississippi</td>\n",
       "      <td>Newton County</td>\n",
       "      <td>6.1</td>\n",
       "    </tr>\n",
       "    <tr>\n",
       "      <th>1</th>\n",
       "      <td>2015</td>\n",
       "      <td>February</td>\n",
       "      <td>Mississippi</td>\n",
       "      <td>Panola County</td>\n",
       "      <td>9.4</td>\n",
       "    </tr>\n",
       "    <tr>\n",
       "      <th>2</th>\n",
       "      <td>2015</td>\n",
       "      <td>February</td>\n",
       "      <td>Mississippi</td>\n",
       "      <td>Monroe County</td>\n",
       "      <td>7.9</td>\n",
       "    </tr>\n",
       "    <tr>\n",
       "      <th>3</th>\n",
       "      <td>2015</td>\n",
       "      <td>February</td>\n",
       "      <td>Mississippi</td>\n",
       "      <td>Hinds County</td>\n",
       "      <td>6.1</td>\n",
       "    </tr>\n",
       "    <tr>\n",
       "      <th>4</th>\n",
       "      <td>2015</td>\n",
       "      <td>February</td>\n",
       "      <td>Mississippi</td>\n",
       "      <td>Kemper County</td>\n",
       "      <td>10.6</td>\n",
       "    </tr>\n",
       "  </tbody>\n",
       "</table>\n",
       "</div>"
      ],
      "text/plain": [
       "   Year     Month        State         County  Rate\n",
       "0  2015  February  Mississippi  Newton County   6.1\n",
       "1  2015  February  Mississippi  Panola County   9.4\n",
       "2  2015  February  Mississippi  Monroe County   7.9\n",
       "3  2015  February  Mississippi   Hinds County   6.1\n",
       "4  2015  February  Mississippi  Kemper County  10.6"
      ]
     },
     "execution_count": 39,
     "metadata": {},
     "output_type": "execute_result"
    }
   ],
   "source": [
    "df_unemployment = pd.read_csv('Unemployment_Rate_Data.csv')\n",
    "df_unemployment.head()"
   ]
  },
  {
   "cell_type": "code",
   "execution_count": 40,
   "metadata": {},
   "outputs": [],
   "source": [
    "#the Border Crossing Data Set\n",
    "\n",
    "urlfile=\"https://raw.githubusercontent.com/noayesa/pythonFinal/master/Border_Crossing_Entry_Data.csv\"\n",
    "\n",
    "df_border_crossing = pd.read_csv(urlfile)"
   ]
  },
  {
   "cell_type": "code",
   "execution_count": 41,
   "metadata": {},
   "outputs": [
    {
     "data": {
      "text/html": [
       "<div>\n",
       "<style scoped>\n",
       "    .dataframe tbody tr th:only-of-type {\n",
       "        vertical-align: middle;\n",
       "    }\n",
       "\n",
       "    .dataframe tbody tr th {\n",
       "        vertical-align: top;\n",
       "    }\n",
       "\n",
       "    .dataframe thead th {\n",
       "        text-align: right;\n",
       "    }\n",
       "</style>\n",
       "<table border=\"1\" class=\"dataframe\">\n",
       "  <thead>\n",
       "    <tr style=\"text-align: right;\">\n",
       "      <th></th>\n",
       "      <th>Port Name</th>\n",
       "      <th>State</th>\n",
       "      <th>Port Code</th>\n",
       "      <th>Border</th>\n",
       "      <th>Date</th>\n",
       "      <th>Measure</th>\n",
       "      <th>Value</th>\n",
       "    </tr>\n",
       "  </thead>\n",
       "  <tbody>\n",
       "    <tr>\n",
       "      <th>0</th>\n",
       "      <td>Alcan</td>\n",
       "      <td>AK</td>\n",
       "      <td>3104</td>\n",
       "      <td>US-Canada Border</td>\n",
       "      <td>2/1/2020 00:00</td>\n",
       "      <td>Personal Vehicle Passengers</td>\n",
       "      <td>1414</td>\n",
       "    </tr>\n",
       "    <tr>\n",
       "      <th>1</th>\n",
       "      <td>Alcan</td>\n",
       "      <td>AK</td>\n",
       "      <td>3104</td>\n",
       "      <td>US-Canada Border</td>\n",
       "      <td>2/1/2020 00:00</td>\n",
       "      <td>Personal Vehicles</td>\n",
       "      <td>763</td>\n",
       "    </tr>\n",
       "    <tr>\n",
       "      <th>2</th>\n",
       "      <td>Alcan</td>\n",
       "      <td>AK</td>\n",
       "      <td>3104</td>\n",
       "      <td>US-Canada Border</td>\n",
       "      <td>2/1/2020 00:00</td>\n",
       "      <td>Truck Containers Empty</td>\n",
       "      <td>412</td>\n",
       "    </tr>\n",
       "    <tr>\n",
       "      <th>3</th>\n",
       "      <td>Alcan</td>\n",
       "      <td>AK</td>\n",
       "      <td>3104</td>\n",
       "      <td>US-Canada Border</td>\n",
       "      <td>2/1/2020 00:00</td>\n",
       "      <td>Truck Containers Full</td>\n",
       "      <td>122</td>\n",
       "    </tr>\n",
       "    <tr>\n",
       "      <th>4</th>\n",
       "      <td>Alcan</td>\n",
       "      <td>AK</td>\n",
       "      <td>3104</td>\n",
       "      <td>US-Canada Border</td>\n",
       "      <td>2/1/2020 00:00</td>\n",
       "      <td>Trucks</td>\n",
       "      <td>545</td>\n",
       "    </tr>\n",
       "  </tbody>\n",
       "</table>\n",
       "</div>"
      ],
      "text/plain": [
       "  Port Name State  Port Code            Border            Date  \\\n",
       "0     Alcan    AK       3104  US-Canada Border  2/1/2020 00:00   \n",
       "1     Alcan    AK       3104  US-Canada Border  2/1/2020 00:00   \n",
       "2     Alcan    AK       3104  US-Canada Border  2/1/2020 00:00   \n",
       "3     Alcan    AK       3104  US-Canada Border  2/1/2020 00:00   \n",
       "4     Alcan    AK       3104  US-Canada Border  2/1/2020 00:00   \n",
       "\n",
       "                       Measure  Value  \n",
       "0  Personal Vehicle Passengers   1414  \n",
       "1            Personal Vehicles    763  \n",
       "2       Truck Containers Empty    412  \n",
       "3        Truck Containers Full    122  \n",
       "4                       Trucks    545  "
      ]
     },
     "execution_count": 41,
     "metadata": {},
     "output_type": "execute_result"
    }
   ],
   "source": [
    "df_border_crossing.head()"
   ]
  },
  {
   "cell_type": "code",
   "execution_count": 42,
   "metadata": {},
   "outputs": [],
   "source": [
    "state_names_abb = {\n",
    "    \"AL\": \"Alabama\",\n",
    "    \"AK\": \"Alaska\",\n",
    "    \"AS\": \"American Samoa\",\n",
    "    \"AZ\": \"Arizona\",\n",
    "    \"AR\": \"Arkansas\",\n",
    "    \"CA\": \"California\",\n",
    "    \"CO\": \"Colorado\",\n",
    "    \"CT\": \"Connecticut\",\n",
    "    \"DE\": \"Delaware\",\n",
    "    \"DC\": \"District Of Columbia\",\n",
    "    \"FM\": \"Federated States Of Micronesia\",\n",
    "    \"FL\": \"Florida\",\n",
    "    \"GA\": \"Georgia\",\n",
    "    \"GU\": \"Guam\",\n",
    "    \"HI\": \"Hawaii\",\n",
    "    \"ID\": \"Idaho\",\n",
    "    \"IL\": \"Illinois\",\n",
    "    \"IN\": \"Indiana\",\n",
    "    \"IA\": \"Iowa\",\n",
    "    \"KS\": \"Kansas\",\n",
    "    \"KY\": \"Kentucky\",\n",
    "    \"LA\": \"Louisiana\",\n",
    "    \"ME\": \"Maine\",\n",
    "    \"MH\": \"Marshall Islands\",\n",
    "    \"MD\": \"Maryland\",\n",
    "    \"MA\": \"Massachusetts\",\n",
    "    \"MI\": \"Michigan\",\n",
    "    \"MN\": \"Minnesota\",\n",
    "    \"MS\": \"Mississippi\",\n",
    "    \"MO\": \"Missouri\",\n",
    "    \"MT\": \"Montana\",\n",
    "    \"NE\": \"Nebraska\",\n",
    "    \"NV\": \"Nevada\",\n",
    "    \"NH\": \"New Hampshire\",\n",
    "    \"NJ\": \"New Jersey\",\n",
    "    \"NM\": \"New Mexico\",\n",
    "    \"NY\": \"New York\",\n",
    "    \"NC\": \"North Carolina\",\n",
    "    \"ND\": \"North Dakota\",\n",
    "    \"MP\": \"Northern Mariana Islands\",\n",
    "    \"OH\": \"Ohio\",\n",
    "    \"OK\": \"Oklahoma\",\n",
    "    \"OR\": \"Oregon\",\n",
    "    \"PW\": \"Palau\",\n",
    "    \"PA\": \"Pennsylvania\",\n",
    "    \"PR\": \"Puerto Rico\",\n",
    "    \"RI\": \"Rhode Island\",\n",
    "    \"SC\": \"South Carolina\",\n",
    "    \"SD\": \"South Dakota\",\n",
    "    \"TN\": \"Tennessee\",\n",
    "    \"TX\": \"Texas\",\n",
    "    \"UT\": \"Utah\",\n",
    "    \"VT\": \"Vermont\",\n",
    "    \"VI\": \"Virgin Islands\",\n",
    "    \"VA\": \"Virginia\",\n",
    "    \"WA\": \"Washington\",\n",
    "    \"WV\": \"West Virginia\",\n",
    "    \"WI\": \"Wisconsin\",\n",
    "    \"WY\": \"Wyoming\"\n",
    "}"
   ]
  },
  {
   "cell_type": "markdown",
   "metadata": {},
   "source": [
    "First, we wolud like to have at each df a column of 'Time'. This column aggregate the 'Year' and 'Month' along with fictive day- the first day of the month. we will use datetime as we've seen at class."
   ]
  },
  {
   "cell_type": "code",
   "execution_count": 44,
   "metadata": {},
   "outputs": [],
   "source": [
    "#applying lambda function over each element at the series and convert to datetime\n",
    "df_border_crossing['Time'] = df_border_crossing.Date.apply(lambda str_date: \n",
    "                                                           datetime.strptime(str_date, \"%m/%d/%Y %H:%M\"))\n",
    "df_unemployment['Time'] = (df_unemployment.Year.apply(str) + \" \" \n",
    "                           + df_unemployment.Month).apply(lambda str_date: \n",
    "                                                          datetime.strptime(str_date, \"%Y %B\"))"
   ]
  },
  {
   "cell_type": "markdown",
   "metadata": {},
   "source": [
    "At Border Crossing dataframe we would use the full state name, and not the abbreviation. We will use json file as a dictionary, and translate:"
   ]
  },
  {
   "cell_type": "code",
   "execution_count": 45,
   "metadata": {},
   "outputs": [],
   "source": [
    "with open('data/states_hash.json') as f:\n",
    "    state_names_abb = json.load(f)\n",
    "\n",
    "df_border_crossing.State = df_border_crossing.State.apply(lambda state_name: state_names_abb[state_name])"
   ]
  },
  {
   "cell_type": "markdown",
   "metadata": {},
   "source": [
    "We would remove redundant columns from each dataframe:"
   ]
  },
  {
   "cell_type": "code",
   "execution_count": 46,
   "metadata": {},
   "outputs": [],
   "source": [
    "df_border_crossing.drop(columns=['Date', 'Port Name', 'Port Code', 'Measure'], inplace=True)\n",
    "df_unemployment.drop(columns=['Year', 'Month', 'County'], inplace=True)"
   ]
  },
  {
   "cell_type": "markdown",
   "metadata": {},
   "source": [
    "At Unemployment Rate df, after adding the 'Time' column, we will group by 'State' and 'Time'. Then we will average the Rate of each state, insted of investigating individual county. \n",
    "\n",
    "At Border Crossing df, we will aggregate by 'State', 'Time' and 'Border', to keep the Border column of each border state. We will sum the cross border data for each state, ignoring the 'Measure' (the transportasion method)."
   ]
  },
  {
   "cell_type": "code",
   "execution_count": 47,
   "metadata": {},
   "outputs": [],
   "source": [
    "df_border_crossing = df_border_crossing.groupby(['State','Border', 'Time'], as_index=False).agg({'Value':'sum'})\n",
    "df_unemployment = df_unemployment.groupby(['State', 'Time'], as_index=False).mean()"
   ]
  },
  {
   "cell_type": "code",
   "execution_count": 48,
   "metadata": {},
   "outputs": [
    {
     "data": {
      "text/html": [
       "<div>\n",
       "<style scoped>\n",
       "    .dataframe tbody tr th:only-of-type {\n",
       "        vertical-align: middle;\n",
       "    }\n",
       "\n",
       "    .dataframe tbody tr th {\n",
       "        vertical-align: top;\n",
       "    }\n",
       "\n",
       "    .dataframe thead th {\n",
       "        text-align: right;\n",
       "    }\n",
       "</style>\n",
       "<table border=\"1\" class=\"dataframe\">\n",
       "  <thead>\n",
       "    <tr style=\"text-align: right;\">\n",
       "      <th></th>\n",
       "      <th>State</th>\n",
       "      <th>Time</th>\n",
       "      <th>Rate</th>\n",
       "    </tr>\n",
       "  </thead>\n",
       "  <tbody>\n",
       "    <tr>\n",
       "      <th>0</th>\n",
       "      <td>Alabama</td>\n",
       "      <td>1990-01-01</td>\n",
       "      <td>8.692537</td>\n",
       "    </tr>\n",
       "    <tr>\n",
       "      <th>1</th>\n",
       "      <td>Alabama</td>\n",
       "      <td>1990-02-01</td>\n",
       "      <td>8.971642</td>\n",
       "    </tr>\n",
       "    <tr>\n",
       "      <th>2</th>\n",
       "      <td>Alabama</td>\n",
       "      <td>1990-03-01</td>\n",
       "      <td>8.408955</td>\n",
       "    </tr>\n",
       "    <tr>\n",
       "      <th>3</th>\n",
       "      <td>Alabama</td>\n",
       "      <td>1990-04-01</td>\n",
       "      <td>7.488060</td>\n",
       "    </tr>\n",
       "    <tr>\n",
       "      <th>4</th>\n",
       "      <td>Alabama</td>\n",
       "      <td>1990-05-01</td>\n",
       "      <td>7.343284</td>\n",
       "    </tr>\n",
       "  </tbody>\n",
       "</table>\n",
       "</div>"
      ],
      "text/plain": [
       "     State       Time      Rate\n",
       "0  Alabama 1990-01-01  8.692537\n",
       "1  Alabama 1990-02-01  8.971642\n",
       "2  Alabama 1990-03-01  8.408955\n",
       "3  Alabama 1990-04-01  7.488060\n",
       "4  Alabama 1990-05-01  7.343284"
      ]
     },
     "execution_count": 48,
     "metadata": {},
     "output_type": "execute_result"
    }
   ],
   "source": [
    "df_unemployment.head()"
   ]
  },
  {
   "cell_type": "code",
   "execution_count": 49,
   "metadata": {},
   "outputs": [
    {
     "data": {
      "text/html": [
       "<div>\n",
       "<style scoped>\n",
       "    .dataframe tbody tr th:only-of-type {\n",
       "        vertical-align: middle;\n",
       "    }\n",
       "\n",
       "    .dataframe tbody tr th {\n",
       "        vertical-align: top;\n",
       "    }\n",
       "\n",
       "    .dataframe thead th {\n",
       "        text-align: right;\n",
       "    }\n",
       "</style>\n",
       "<table border=\"1\" class=\"dataframe\">\n",
       "  <thead>\n",
       "    <tr style=\"text-align: right;\">\n",
       "      <th></th>\n",
       "      <th>State</th>\n",
       "      <th>Border</th>\n",
       "      <th>Time</th>\n",
       "      <th>Value</th>\n",
       "    </tr>\n",
       "  </thead>\n",
       "  <tbody>\n",
       "    <tr>\n",
       "      <th>0</th>\n",
       "      <td>Alaska</td>\n",
       "      <td>US-Canada Border</td>\n",
       "      <td>1996-01-01</td>\n",
       "      <td>7705</td>\n",
       "    </tr>\n",
       "    <tr>\n",
       "      <th>1</th>\n",
       "      <td>Alaska</td>\n",
       "      <td>US-Canada Border</td>\n",
       "      <td>1996-02-01</td>\n",
       "      <td>7585</td>\n",
       "    </tr>\n",
       "    <tr>\n",
       "      <th>2</th>\n",
       "      <td>Alaska</td>\n",
       "      <td>US-Canada Border</td>\n",
       "      <td>1996-03-01</td>\n",
       "      <td>12710</td>\n",
       "    </tr>\n",
       "    <tr>\n",
       "      <th>3</th>\n",
       "      <td>Alaska</td>\n",
       "      <td>US-Canada Border</td>\n",
       "      <td>1996-04-01</td>\n",
       "      <td>19454</td>\n",
       "    </tr>\n",
       "    <tr>\n",
       "      <th>4</th>\n",
       "      <td>Alaska</td>\n",
       "      <td>US-Canada Border</td>\n",
       "      <td>1996-05-01</td>\n",
       "      <td>48239</td>\n",
       "    </tr>\n",
       "  </tbody>\n",
       "</table>\n",
       "</div>"
      ],
      "text/plain": [
       "    State            Border       Time  Value\n",
       "0  Alaska  US-Canada Border 1996-01-01   7705\n",
       "1  Alaska  US-Canada Border 1996-02-01   7585\n",
       "2  Alaska  US-Canada Border 1996-03-01  12710\n",
       "3  Alaska  US-Canada Border 1996-04-01  19454\n",
       "4  Alaska  US-Canada Border 1996-05-01  48239"
      ]
     },
     "execution_count": 49,
     "metadata": {},
     "output_type": "execute_result"
    }
   ],
   "source": [
    "df_border_crossing.head()"
   ]
  },
  {
   "cell_type": "markdown",
   "metadata": {},
   "source": [
    "Lastly, we will merge both dataframes using 'State' and 'Time' columns.\n",
    "This will give use a dataframe of every border state at USA, with its Unemployment Rate, and estimated amount of immigrants- both by month. "
   ]
  },
  {
   "cell_type": "code",
   "execution_count": 50,
   "metadata": {},
   "outputs": [
    {
     "data": {
      "text/html": [
       "<div>\n",
       "<style scoped>\n",
       "    .dataframe tbody tr th:only-of-type {\n",
       "        vertical-align: middle;\n",
       "    }\n",
       "\n",
       "    .dataframe tbody tr th {\n",
       "        vertical-align: top;\n",
       "    }\n",
       "\n",
       "    .dataframe thead th {\n",
       "        text-align: right;\n",
       "    }\n",
       "</style>\n",
       "<table border=\"1\" class=\"dataframe\">\n",
       "  <thead>\n",
       "    <tr style=\"text-align: right;\">\n",
       "      <th></th>\n",
       "      <th>State</th>\n",
       "      <th>Border</th>\n",
       "      <th>Time</th>\n",
       "      <th>Value</th>\n",
       "      <th>Rate</th>\n",
       "    </tr>\n",
       "  </thead>\n",
       "  <tbody>\n",
       "    <tr>\n",
       "      <th>0</th>\n",
       "      <td>Arizona</td>\n",
       "      <td>US-Mexico Border</td>\n",
       "      <td>1996-01-01</td>\n",
       "      <td>3377293</td>\n",
       "      <td>12.160000</td>\n",
       "    </tr>\n",
       "    <tr>\n",
       "      <th>1</th>\n",
       "      <td>Arizona</td>\n",
       "      <td>US-Mexico Border</td>\n",
       "      <td>1996-02-01</td>\n",
       "      <td>3107925</td>\n",
       "      <td>11.013333</td>\n",
       "    </tr>\n",
       "    <tr>\n",
       "      <th>2</th>\n",
       "      <td>Arizona</td>\n",
       "      <td>US-Mexico Border</td>\n",
       "      <td>1996-03-01</td>\n",
       "      <td>3440829</td>\n",
       "      <td>11.040000</td>\n",
       "    </tr>\n",
       "    <tr>\n",
       "      <th>3</th>\n",
       "      <td>Arizona</td>\n",
       "      <td>US-Mexico Border</td>\n",
       "      <td>1996-04-01</td>\n",
       "      <td>3284338</td>\n",
       "      <td>10.980000</td>\n",
       "    </tr>\n",
       "    <tr>\n",
       "      <th>4</th>\n",
       "      <td>Arizona</td>\n",
       "      <td>US-Mexico Border</td>\n",
       "      <td>1996-05-01</td>\n",
       "      <td>3303278</td>\n",
       "      <td>10.933333</td>\n",
       "    </tr>\n",
       "  </tbody>\n",
       "</table>\n",
       "</div>"
      ],
      "text/plain": [
       "     State            Border       Time    Value       Rate\n",
       "0  Arizona  US-Mexico Border 1996-01-01  3377293  12.160000\n",
       "1  Arizona  US-Mexico Border 1996-02-01  3107925  11.013333\n",
       "2  Arizona  US-Mexico Border 1996-03-01  3440829  11.040000\n",
       "3  Arizona  US-Mexico Border 1996-04-01  3284338  10.980000\n",
       "4  Arizona  US-Mexico Border 1996-05-01  3303278  10.933333"
      ]
     },
     "execution_count": 50,
     "metadata": {},
     "output_type": "execute_result"
    }
   ],
   "source": [
    "merged_df = df_border_crossing.merge(df_unemployment, on=['State','Time'])\n",
    "\n",
    "merged_df.head()"
   ]
  },
  {
   "cell_type": "markdown",
   "metadata": {},
   "source": [
    "At this point, we ran some tests. We wanted to make sure our data was parsed properly, and the merged_df is what we expected. Here are few of them:"
   ]
  },
  {
   "cell_type": "code",
   "execution_count": 51,
   "metadata": {},
   "outputs": [
    {
     "name": "stdout",
     "output_type": "stream",
     "text": [
      "Amount of non-border states:  0\n",
      "Are there any NaN values?  False\n",
      "List of states bordering with Mexico: \n",
      " ['Arizona' 'California' 'New Mexico' 'Texas']\n",
      "list of states bordering with Canada: \n",
      " ['Idaho' 'Maine' 'Michigan' 'Minnesota' 'Montana' 'New York'\n",
      " 'North Dakota' 'Vermont' 'Washington']\n"
     ]
    }
   ],
   "source": [
    "# make sure that all states are border states\n",
    "print(\"Amount of non-border states: \", merged_df['Border'].isnull().sum())\n",
    "\n",
    "# # look for any NaN values- there should be none\n",
    "print(\"Are there any NaN values? \", merged_df.isnull().values.any())\n",
    "\n",
    "# get the list of the states bordering with Mexico\n",
    "print(\"List of states bordering with Mexico: \\n\", merged_df.loc[merged_df.Border == 'US-Mexico Border'].State.unique())\n",
    "\n",
    "# get the list of the states bordering with Canada\n",
    "print(\"list of states bordering with Canada: \\n\", merged_df.loc[merged_df.Border == 'US-Canada Border'].State.unique())"
   ]
  },
  {
   "cell_type": "markdown",
   "metadata": {},
   "source": [
    "At this point we've noticed that tere are some missing states at the Canada list. \n",
    "The missing state are Pennsylvania, Alaska, New Hampshire and Ohio. \n",
    "\n",
    "Looking at the data, we saw that two of the missing states aren't in our Border_Crossing_Entry_Data.csv- \n",
    "Pennsylvania and New Hampshire. \n",
    "\n",
    "For Alaska, we noticed its missing from the Unemployment Rate dataset.\n",
    "\n",
    "As for Ohio, the only date we have data on is after 2016, which is the last date of data at the Unemployment Rate dataset: "
   ]
  },
  {
   "cell_type": "code",
   "execution_count": 52,
   "metadata": {},
   "outputs": [
    {
     "name": "stdout",
     "output_type": "stream",
     "text": [
      "List of the original states bordering with Canada before processing: \n",
      " ['AK' 'NY' 'MI' 'ND' 'MN' 'VT' 'WA' 'ME' 'MT' 'ID' 'OH']\n",
      "Display df with data of Alaska and make sure there are none: \n",
      "\n"
     ]
    },
    {
     "data": {
      "text/html": [
       "<div>\n",
       "<style scoped>\n",
       "    .dataframe tbody tr th:only-of-type {\n",
       "        vertical-align: middle;\n",
       "    }\n",
       "\n",
       "    .dataframe tbody tr th {\n",
       "        vertical-align: top;\n",
       "    }\n",
       "\n",
       "    .dataframe thead th {\n",
       "        text-align: right;\n",
       "    }\n",
       "</style>\n",
       "<table border=\"1\" class=\"dataframe\">\n",
       "  <thead>\n",
       "    <tr style=\"text-align: right;\">\n",
       "      <th></th>\n",
       "      <th>Year</th>\n",
       "      <th>Month</th>\n",
       "      <th>State</th>\n",
       "      <th>County</th>\n",
       "      <th>Rate</th>\n",
       "    </tr>\n",
       "  </thead>\n",
       "  <tbody>\n",
       "  </tbody>\n",
       "</table>\n",
       "</div>"
      ],
      "text/plain": [
       "Empty DataFrame\n",
       "Columns: [Year, Month, State, County, Rate]\n",
       "Index: []"
      ]
     },
     "metadata": {},
     "output_type": "display_data"
    },
    {
     "name": "stdout",
     "output_type": "stream",
     "text": [
      "Make sure the dates of Ohio's data are after 2016, which is our last date: \n",
      "\n"
     ]
    },
    {
     "data": {
      "text/html": [
       "<div>\n",
       "<style scoped>\n",
       "    .dataframe tbody tr th:only-of-type {\n",
       "        vertical-align: middle;\n",
       "    }\n",
       "\n",
       "    .dataframe tbody tr th {\n",
       "        vertical-align: top;\n",
       "    }\n",
       "\n",
       "    .dataframe thead th {\n",
       "        text-align: right;\n",
       "    }\n",
       "</style>\n",
       "<table border=\"1\" class=\"dataframe\">\n",
       "  <thead>\n",
       "    <tr style=\"text-align: right;\">\n",
       "      <th></th>\n",
       "      <th>Port Name</th>\n",
       "      <th>State</th>\n",
       "      <th>Port Code</th>\n",
       "      <th>Border</th>\n",
       "      <th>Date</th>\n",
       "      <th>Measure</th>\n",
       "      <th>Value</th>\n",
       "    </tr>\n",
       "  </thead>\n",
       "  <tbody>\n",
       "    <tr>\n",
       "      <th>4646</th>\n",
       "      <td>Toledo-Sandusky</td>\n",
       "      <td>OH</td>\n",
       "      <td>4105</td>\n",
       "      <td>US-Canada Border</td>\n",
       "      <td>9/1/2019 00:00</td>\n",
       "      <td>Personal Vehicles</td>\n",
       "      <td>7</td>\n",
       "    </tr>\n",
       "    <tr>\n",
       "      <th>5460</th>\n",
       "      <td>Toledo-Sandusky</td>\n",
       "      <td>OH</td>\n",
       "      <td>4105</td>\n",
       "      <td>US-Canada Border</td>\n",
       "      <td>8/1/2019 00:00</td>\n",
       "      <td>Personal Vehicles</td>\n",
       "      <td>79</td>\n",
       "    </tr>\n",
       "    <tr>\n",
       "      <th>6265</th>\n",
       "      <td>Toledo-Sandusky</td>\n",
       "      <td>OH</td>\n",
       "      <td>4105</td>\n",
       "      <td>US-Canada Border</td>\n",
       "      <td>7/1/2019 00:00</td>\n",
       "      <td>Personal Vehicles</td>\n",
       "      <td>115</td>\n",
       "    </tr>\n",
       "    <tr>\n",
       "      <th>6604</th>\n",
       "      <td>Toledo-Sandusky</td>\n",
       "      <td>OH</td>\n",
       "      <td>4105</td>\n",
       "      <td>US-Canada Border</td>\n",
       "      <td>6/1/2019 00:00</td>\n",
       "      <td>Personal Vehicles</td>\n",
       "      <td>22</td>\n",
       "    </tr>\n",
       "    <tr>\n",
       "      <th>7743</th>\n",
       "      <td>Toledo-Sandusky</td>\n",
       "      <td>OH</td>\n",
       "      <td>4105</td>\n",
       "      <td>US-Canada Border</td>\n",
       "      <td>5/1/2019 00:00</td>\n",
       "      <td>Personal Vehicles</td>\n",
       "      <td>11</td>\n",
       "    </tr>\n",
       "    <tr>\n",
       "      <th>14045</th>\n",
       "      <td>Toledo-Sandusky</td>\n",
       "      <td>OH</td>\n",
       "      <td>4105</td>\n",
       "      <td>US-Canada Border</td>\n",
       "      <td>9/1/2018 00:00</td>\n",
       "      <td>Personal Vehicles</td>\n",
       "      <td>33</td>\n",
       "    </tr>\n",
       "    <tr>\n",
       "      <th>14857</th>\n",
       "      <td>Toledo-Sandusky</td>\n",
       "      <td>OH</td>\n",
       "      <td>4105</td>\n",
       "      <td>US-Canada Border</td>\n",
       "      <td>8/1/2018 00:00</td>\n",
       "      <td>Personal Vehicles</td>\n",
       "      <td>122</td>\n",
       "    </tr>\n",
       "    <tr>\n",
       "      <th>15850</th>\n",
       "      <td>Toledo-Sandusky</td>\n",
       "      <td>OH</td>\n",
       "      <td>4105</td>\n",
       "      <td>US-Canada Border</td>\n",
       "      <td>7/1/2018 00:00</td>\n",
       "      <td>Personal Vehicles</td>\n",
       "      <td>111</td>\n",
       "    </tr>\n",
       "    <tr>\n",
       "      <th>16072</th>\n",
       "      <td>Toledo-Sandusky</td>\n",
       "      <td>OH</td>\n",
       "      <td>4105</td>\n",
       "      <td>US-Canada Border</td>\n",
       "      <td>6/1/2018 00:00</td>\n",
       "      <td>Personal Vehicles</td>\n",
       "      <td>90</td>\n",
       "    </tr>\n",
       "    <tr>\n",
       "      <th>17049</th>\n",
       "      <td>Toledo-Sandusky</td>\n",
       "      <td>OH</td>\n",
       "      <td>4105</td>\n",
       "      <td>US-Canada Border</td>\n",
       "      <td>5/1/2018 00:00</td>\n",
       "      <td>Personal Vehicles</td>\n",
       "      <td>17</td>\n",
       "    </tr>\n",
       "  </tbody>\n",
       "</table>\n",
       "</div>"
      ],
      "text/plain": [
       "             Port Name State  Port Code            Border            Date  \\\n",
       "4646   Toledo-Sandusky    OH       4105  US-Canada Border  9/1/2019 00:00   \n",
       "5460   Toledo-Sandusky    OH       4105  US-Canada Border  8/1/2019 00:00   \n",
       "6265   Toledo-Sandusky    OH       4105  US-Canada Border  7/1/2019 00:00   \n",
       "6604   Toledo-Sandusky    OH       4105  US-Canada Border  6/1/2019 00:00   \n",
       "7743   Toledo-Sandusky    OH       4105  US-Canada Border  5/1/2019 00:00   \n",
       "14045  Toledo-Sandusky    OH       4105  US-Canada Border  9/1/2018 00:00   \n",
       "14857  Toledo-Sandusky    OH       4105  US-Canada Border  8/1/2018 00:00   \n",
       "15850  Toledo-Sandusky    OH       4105  US-Canada Border  7/1/2018 00:00   \n",
       "16072  Toledo-Sandusky    OH       4105  US-Canada Border  6/1/2018 00:00   \n",
       "17049  Toledo-Sandusky    OH       4105  US-Canada Border  5/1/2018 00:00   \n",
       "\n",
       "                 Measure  Value  \n",
       "4646   Personal Vehicles      7  \n",
       "5460   Personal Vehicles     79  \n",
       "6265   Personal Vehicles    115  \n",
       "6604   Personal Vehicles     22  \n",
       "7743   Personal Vehicles     11  \n",
       "14045  Personal Vehicles     33  \n",
       "14857  Personal Vehicles    122  \n",
       "15850  Personal Vehicles    111  \n",
       "16072  Personal Vehicles     90  \n",
       "17049  Personal Vehicles     17  "
      ]
     },
     "metadata": {},
     "output_type": "display_data"
    }
   ],
   "source": [
    "df_test_bc = pd.read_csv('data/Border_Crossing_Entry_Data.csv')\n",
    "print(\"List of the original states bordering with Canada before processing: \\n\", \n",
    "      df_test_bc.loc[df_test_bc.Border == 'US-Canada Border'].State.unique())\n",
    "\n",
    "df_test_ur = pd.read_csv('data/Unemployment_Rate_Data.csv')\n",
    "print(\"Display df with data of Alaska and make sure there are none: \\n\")\n",
    "display(df_test_ur.loc[df_test_ur.State == 'Alaska'])\n",
    "\n",
    "\n",
    "print(\"Make sure the dates of Ohio's data are after 2016, which is our last date: \\n\") \n",
    "display(df_test_bc[df_test_bc.State == 'OH'])"
   ]
  },
  {
   "cell_type": "markdown",
   "metadata": {},
   "source": [
    "## Part 2: Linear Regression"
   ]
  },
  {
   "cell_type": "markdown",
   "metadata": {},
   "source": [
    "As we wrote at our proposal, we decided to implement Linear Regression by ourselves. \n",
    "We will try to find a linear connection between the Immigration (our X) and the Unemployment Rate (our y).\n",
    "\n",
    "As we did in lectures, we would like to start by observe the data before calculations."
   ]
  },
  {
   "cell_type": "code",
   "execution_count": 53,
   "metadata": {},
   "outputs": [
    {
     "data": {
      "text/plain": [
       "Text(0.5, 1.0, 'No. of Immigrants vs. Unemployment Rate')"
      ]
     },
     "execution_count": 53,
     "metadata": {},
     "output_type": "execute_result"
    },
    {
     "data": {
      "image/png": "[encoded data removed]",
      "text/plain": [
       "<Figure size 1080x504 with 1 Axes>"
      ]
     },
     "metadata": {
      "needs_background": "light"
     },
     "output_type": "display_data"
    }
   ],
   "source": [
    "X = merged_df.Value.values\n",
    "y = merged_df.Rate.values\n",
    "\n",
    "plt.figure(figsize=(15, 7))\n",
    "plt.plot(X, y, 'ro', ms=1, mec='k')\n",
    "plt.ylabel('Unemployment Rate')\n",
    "plt.xlabel('No. of Immigrants')\n",
    "plt.title('No. of Immigrants vs. Unemployment Rate')"
   ]
  },
  {
   "cell_type": "markdown",
   "metadata": {},
   "source": [
    "At first glance, it seems that there are no significant linear conection between these two aspects- this is different from our hypothesis. Yet, we already put a lot of effort in preprocessing and testing, and we will continue with our plan with optimistic approach.\n",
    "\n",
    "\n",
    "\n",
    "We will start with perform mean normalization on Immigration (our feature), and add vector of ones.\n",
    "\n",
    "We also perform a standardization around 0 on Unemployment Rate (our true label)."
   ]
  },
  {
   "cell_type": "code",
   "execution_count": 54,
   "metadata": {},
   "outputs": [],
   "source": [
    "X = (X - np.mean(X, axis=0))/(X.max(axis=0) - X.min(axis=0))\n",
    "y = (y - np.mean(y)) / (y.max() - y.min())\n",
    "\n",
    "X = np.vstack((np.ones(X.size), X)).transpose()"
   ]
  },
  {
   "cell_type": "markdown",
   "metadata": {},
   "source": [
    "We will write two functions that will be used in our main loop. Our main loop will be to compute the current loss, and update the slope (𝜃 or a in litrature) of the line as we go. \n",
    "\n",
    "**compute_cost** is responsible to computes the average squared difference between the current predicted values (by using the slop) and the actual true lable.\n",
    "**gradient_descent** is learning the parameters of the linear model using gradient descent by minimize loss function. This is done by iteratively moving in the direction of descent as defined by the negative of the gradient."
   ]
  },
  {
   "cell_type": "code",
   "execution_count": 55,
   "metadata": {},
   "outputs": [],
   "source": [
    "def compute_cost(X, y, 𝜃):\n",
    "    y = np.reshape(y, len(y)) # for y_hat - y\n",
    "    y_hat = np.dot(X, 𝜃)\n",
    "    sqr_diff = np.square(y_hat - y)\n",
    "    curr_cost = np.sum(sqr_diff)/float(2 * y.size)\n",
    "    return curr_cost"
   ]
  },
  {
   "cell_type": "code",
   "execution_count": 56,
   "metadata": {},
   "outputs": [],
   "source": [
    "def gradient_descent(X, y, 𝜃, η, iterations, epsilon):\n",
    "    cost_history = [] \n",
    "    \n",
    "    for i in range(iterations):\n",
    "        cost_history.append(compute_cost(X, y, 𝜃))\n",
    "        \n",
    "        # Check if the improvement is less than the epsilon\n",
    "        # This cannot be checked at the first loop\n",
    "        if i != 0 and (cost_history[i-1] - cost_history[i]) < epsilon:\n",
    "            break; \n",
    "        base_calc = np.subtract(np.matmul(X, 𝜃), y)\n",
    "        𝜃 = 𝜃 - (η * np.matmul(X.transpose(), base_calc)) / y.size\n",
    "\n",
    "    return 𝜃, cost_history"
   ]
  },
  {
   "cell_type": "markdown",
   "metadata": {},
   "source": [
    "We decided to check few learning rate, and choose the most propriate- dependes on the loss. We will do it by iterate over different values of learning rate, and maintain dictionary with it as key and final loss as the value."
   ]
  },
  {
   "cell_type": "code",
   "execution_count": 57,
   "metadata": {},
   "outputs": [],
   "source": [
    "ηs = [0.00001, 0.001, 0.01, 0.1, 1, 2, 3]\n",
    "η_dict = {}\n",
    "𝜃 = np.ones(X.shape[1])   #vector of 1's as initial value\n",
    "iterations = 40000\n",
    "epsilon = 1e-8"
   ]
  },
  {
   "cell_type": "code",
   "execution_count": 58,
   "metadata": {},
   "outputs": [
    {
     "data": {
      "text/plain": [
       "3"
      ]
     },
     "execution_count": 58,
     "metadata": {},
     "output_type": "execute_result"
    }
   ],
   "source": [
    "for η in ηs:\n",
    "    𝜃, cost_history = gradient_descent(X, y, 𝜃, η, iterations, epsilon)\n",
    "    η_dict[η] = cost_history[-1]  # -1 for choosing the last index\n",
    "\n",
    "best_η = min(η_dict, key=η_dict.get)\n",
    "best_η"
   ]
  },
  {
   "cell_type": "markdown",
   "metadata": {},
   "source": [
    "After calculating the best learning rate, we will finally run gradient_descent along with the right hyper parameter:"
   ]
  },
  {
   "cell_type": "code",
   "execution_count": 59,
   "metadata": {},
   "outputs": [],
   "source": [
    "𝜃, cost_history = gradient_descent(X, y, 𝜃, best_η, iterations, epsilon)"
   ]
  },
  {
   "cell_type": "code",
   "execution_count": 60,
   "metadata": {},
   "outputs": [
    {
     "data": {
      "text/plain": [
       "array([1.53751612e-16, 1.47853184e-01])"
      ]
     },
     "execution_count": 60,
     "metadata": {},
     "output_type": "execute_result"
    }
   ],
   "source": [
    "𝜃"
   ]
  },
  {
   "cell_type": "markdown",
   "metadata": {},
   "source": [
    "Let's plot our model!"
   ]
  },
  {
   "cell_type": "code",
   "execution_count": 61,
   "metadata": {},
   "outputs": [
    {
     "data": {
      "image/png": "[encoded data removed]",
      "text/plain": [
       "<Figure size 1080x504 with 1 Axes>"
      ]
     },
     "metadata": {
      "needs_background": "light"
     },
     "output_type": "display_data"
    }
   ],
   "source": [
    "plt.figure(figsize=(15, 7))\n",
    "plt.plot(X[:,1], y, 'ro', ms=1, mec='k')\n",
    "plt.ylabel('Unemployment Rate')\n",
    "plt.xlabel('Immigration')\n",
    "plt.title('No. of Immigrants vs. Unemployment Rate')\n",
    "plt.plot(X[:, 1], np.dot(X, 𝜃), 'o')\n",
    "\n",
    "plt.legend(['Training data', 'Linear regression Model']);"
   ]
  },
  {
   "cell_type": "markdown",
   "metadata": {},
   "source": [
    "We can also use seaborn to plot as we've seen at class:"
   ]
  },
  {
   "cell_type": "code",
   "execution_count": 62,
   "metadata": {},
   "outputs": [
    {
     "data": {
      "image/png": "[encoded data removed]",
      "text/plain": [
       "<Figure size 432x432 with 3 Axes>"
      ]
     },
     "metadata": {
      "needs_background": "light"
     },
     "output_type": "display_data"
    }
   ],
   "source": [
    "merged_df.rename(columns={\"Value\": \"No. of Immigrants\", \"Rate\": \"Unemployment Rate\"}, inplace = True)\n",
    "data = merged_df[['No. of Immigrants', 'Unemployment Rate']]\n",
    "\n",
    "linear_model_plot = sns.JointGrid(x=\"No. of Immigrants\", y=\"Unemployment Rate\", data=data)\n",
    "linear_model_plot.plot_joint(sns.regplot)\n",
    "linear_model_plot.ax_marg_x.set_axis_off()\n",
    "linear_model_plot.ax_marg_y.set_axis_off()"
   ]
  },
  {
   "cell_type": "markdown",
   "metadata": {},
   "source": [
    "## Linear Regression for Bordering States with Canada"
   ]
  },
  {
   "cell_type": "markdown",
   "metadata": {},
   "source": [
    "Let us now seperate our data into states bordering with Canada, and later on with the states bordering Mexico. \n",
    "Similarly to before, after seperating the data, we will perform mean normalization and add a vector of ones.\n",
    "\n",
    "Also, we standarize around 0 for the Unemployment Rate."
   ]
  },
  {
   "cell_type": "code",
   "execution_count": 63,
   "metadata": {},
   "outputs": [],
   "source": [
    "X_Canada = merged_df[merged_df.Border == 'US-Canada Border']['No. of Immigrants'].values\n",
    "y_Canada = merged_df[merged_df.Border == 'US-Canada Border']['Unemployment Rate'].values\n",
    "\n",
    "#we use axis=0 because X have 2 columns\n",
    "X_Canada = (X_Canada - np.mean(X_Canada, axis=0))/(X_Canada.max(axis=0) - X_Canada.min(axis=0))     \n",
    "y_Canada = (y_Canada - np.mean(y_Canada)) / (y_Canada.max() - y_Canada.min())\n",
    "\n",
    "X_Canada = np.vstack((np.ones(X_Canada.size), X_Canada)).transpose()"
   ]
  },
  {
   "cell_type": "markdown",
   "metadata": {},
   "source": [
    "Finding the best learning rate:"
   ]
  },
  {
   "cell_type": "code",
   "execution_count": null,
   "metadata": {},
   "outputs": [],
   "source": [
    "#finding Best η- the learning rate\n",
    "ηs = [0.00001, 0.001, 0.01, 0.1, 1, 2, 3]\n",
    "η_dict = {}\n",
    "slope_Canada = np.ones(X_Canada.shape[1])   #vector of 1's, for X*slope in gradient_descent\n",
    "iterations = 40000\n",
    "        \n",
    "for η in ηs:\n",
    "    slope_Canada, cost_history = gradient_descent(X_Canada, y_Canada, slope_Canada, η, iterations, epsilon)\n",
    "    η_dict[η] = cost_history[-1]  # -1 for choosing the last index\n",
    "\n",
    "    best_η = min(η_dict, key=η_dict.get)  \n",
    "\n",
    "best_η"
   ]
  },
  {
   "cell_type": "code",
   "execution_count": null,
   "metadata": {},
   "outputs": [],
   "source": [
    "slope_Canada, cost_history = gradient_descent(X, y, slope_Canada, best_η, iterations, epsilon)"
   ]
  },
  {
   "cell_type": "code",
   "execution_count": null,
   "metadata": {},
   "outputs": [],
   "source": [
    "slope_Canada"
   ]
  },
  {
   "cell_type": "code",
   "execution_count": null,
   "metadata": {},
   "outputs": [],
   "source": [
    "#plotting\n",
    "plt.plot(X_Canada[:,1], y_Canada, 'ro', ms=1, mec='k')\n",
    "plt.ylabel('Unemployment Rate in Canada Bordering Countries')\n",
    "plt.xlabel('Immigration in Canada Bordering Countries')\n",
    "plt.plot(X_Canada[:, 1], np.dot(X_Canada, slope_Canada), 'o')\n",
    "\n",
    "plt.legend(['Training data', 'Linear regression']);"
   ]
  },
  {
   "cell_type": "markdown",
   "metadata": {},
   "source": [
    "We can conclude from the above graph that there is a **small positive correlation** between the immigration from Canada and the unemployment rate. \n",
    "However, as the slope is 0.147965849, it suggests that there is a very low correlation between the two."
   ]
  },
  {
   "cell_type": "markdown",
   "metadata": {},
   "source": [
    "## Linear Regression for Bordering States with Mexico"
   ]
  },
  {
   "cell_type": "markdown",
   "metadata": {},
   "source": [
    "Lastly, we will look at the countries bordering with Mexico:"
   ]
  },
  {
   "cell_type": "code",
   "execution_count": null,
   "metadata": {},
   "outputs": [],
   "source": [
    "X_Mexico = merged_df[merged_df.Border == 'US-Mexico Border']['No. of Immigrants'].values\n",
    "y_Mexico = merged_df[merged_df.Border == 'US-Mexico Border']['Unemployment Rate'].values\n",
    " \n",
    "#we use axis=0 because X have 2 columns\n",
    "X_Mexico = (X_Mexico - np.mean(X_Mexico, axis=0))/(X_Mexico.max(axis=0) - X_Mexico.min(axis=0))     \n",
    "y_Mexico = (y_Mexico - np.mean(y_Mexico)) / (y_Mexico.max() - y_Mexico.min())\n",
    "\n",
    "X_Mexico = np.vstack((np.ones(X_Mexico.size), X_Mexico)).transpose()"
   ]
  },
  {
   "cell_type": "code",
   "execution_count": null,
   "metadata": {},
   "outputs": [],
   "source": [
    "#finding Best η- the learning rate\n",
    "ηs = [0.00001, 0.001, 0.01, 0.1, 1, 2, 3]\n",
    "η_dict = {}\n",
    "slope_Mexico = np.ones(X_Mexico.shape[1])   #vector of 1's, for X*slope in gradient_descent\n",
    "iterations = 40000\n",
    "        \n",
    "for η in ηs:\n",
    "    slope_Mexico, cost_history = gradient_descent(X_Mexico, y_Mexico, slope_Mexico, η, iterations, epsilon)\n",
    "    η_dict[η] = cost_history[-1]  # -1 for choosing the last index\n",
    "\n",
    "    best_η = min(η_dict, key=η_dict.get) \n",
    "    \n",
    "best_η"
   ]
  },
  {
   "cell_type": "code",
   "execution_count": null,
   "metadata": {},
   "outputs": [],
   "source": [
    "slope_Mexico, cost_history = gradient_descent(X, y, slope_Mexico, best_η, iterations, epsilon)"
   ]
  },
  {
   "cell_type": "code",
   "execution_count": null,
   "metadata": {},
   "outputs": [],
   "source": [
    "slope_Mexico"
   ]
  },
  {
   "cell_type": "code",
   "execution_count": null,
   "metadata": {},
   "outputs": [],
   "source": [
    "#plotting\n",
    "plt.plot(X_Mexico[:,1], y_Mexico, 'ro', ms=1, mec='k')\n",
    "plt.ylabel('Unemployment Rate in Mexico Bordering Contries')\n",
    "plt.xlabel('Immigration in Mexico Bordering Contries')\n",
    "plt.plot(X_Mexico[:, 1], np.dot(X_Mexico, slope_Mexico), 'o')\n",
    "\n",
    "plt.legend(['Training data', 'Linear regression']);"
   ]
  },
  {
   "cell_type": "markdown",
   "metadata": {},
   "source": [
    "Likewise, the immigration from Mexico and the unemployment rate have a **positive correlation** as predicted with Canada. The slope is ~0.145. \n",
    "\n",
    "Suprisingly, the correlation is actually lower than the one of Immegration from Canada and the unemployment rate in it's bordering countries."
   ]
  }
 ],
 "metadata": {
  "kernelspec": {
   "display_name": "Python 3",
   "language": "python",
   "name": "python3"
  },
  "language_info": {
   "codemirror_mode": {
    "name": "ipython",
    "version": 3
   },
   "file_extension": ".py",
   "mimetype": "text/x-python",
   "name": "python",
   "nbconvert_exporter": "python",
   "pygments_lexer": "ipython3",
   "version": "3.7.1"
  }
 },
 "nbformat": 4,
 "nbformat_minor": 2
}
